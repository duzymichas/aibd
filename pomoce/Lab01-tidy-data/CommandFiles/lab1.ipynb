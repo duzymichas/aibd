{
 "cells": [
  {
   "cell_type": "code",
   "execution_count": 4,
   "metadata": {},
   "outputs": [],
   "source": [
    "import pandas as pd"
   ]
  },
  {
   "cell_type": "code",
   "execution_count": 5,
   "metadata": {},
   "outputs": [],
   "source": [
    "# Set path to data\n",
    "DIR = \"../AnalysisData/\"\n"
   ]
  },
  {
   "cell_type": "code",
   "execution_count": 6,
   "metadata": {},
   "outputs": [],
   "source": [
    "## nr zadania: 1\n",
    "\n",
    "## pew.sav - religia i przychody w USA (UWAGA! plik jest w formacie spss, dane mają formę wyników ankiet, \n",
    "## należy je przekształcić do formy zawierającej tylko religię i przychody, następnie policzyć ile osób \n",
    "## w danej kategorii finansowej deklaruje daną religię)"
   ]
  },
  {
   "cell_type": "code",
   "execution_count": 7,
   "metadata": {},
   "outputs": [
    {
     "name": "stdout",
     "output_type": "stream",
     "text": [
      "           reltrad                     income  counts\n",
      "91        Buddhist        40 to under $50,000      33\n",
      "110       Buddhist        10 to under $20,000      21\n",
      "100       Buddhist          Less than $10,000      27\n",
      "97        Buddhist        20 to under $30,000      30\n",
      "90        Buddhist        30 to under $40,000      34\n",
      "..             ...                        ...     ...\n",
      "31    Unaffiliated      100 to under $150,000     489\n",
      "14    Unaffiliated  Don't know/Refused (VOL.)     769\n",
      "29    Unaffiliated        30 to under $40,000     498\n",
      "37    Unaffiliated        10 to under $20,000     360\n",
      "27    Unaffiliated       75 to under $100,000     602\n",
      "\n",
      "[160 rows x 3 columns]\n"
     ]
    }
   ],
   "source": [
    "# Read original data\n",
    "pew = pd.read_spss(f\"{DIR}pew.sav\")\n",
    "\n",
    "# Extract only income and religion info, then sort it and save as .csv\n",
    "pew = pew[['reltrad', 'income']]\n",
    "pew = pew.sort_values(['reltrad', 'income'])\n",
    "pew.to_csv(path_or_buf=f\"{DIR}pew.csv\", index=False)\n",
    "\n",
    "# Count occurences of each pair of values (religion, income)\n",
    "pew_counted = pew.value_counts(['reltrad', 'income'])\n",
    "reltrad, income = zip(*(pew_counted.keys().tolist()))\n",
    "counts = pew_counted.tolist()\n",
    "\n",
    "# Make new data frame with cumulated counts, then sort it by religion and income, then save it as .csv\n",
    "pew_cum = pd.DataFrame({'reltrad': reltrad, 'income': income, 'counts': counts})\n",
    "pew_cum.sort_values(['reltrad'], inplace=True)\n",
    "\n",
    "pew_cum.to_csv(path_or_buf=f\"{DIR}pew_cum.csv\", index=False)\n",
    "print(pew_cum)"
   ]
  },
  {
   "cell_type": "code",
   "execution_count": null,
   "metadata": {},
   "outputs": [],
   "source": []
  }
 ],
 "metadata": {
  "kernelspec": {
   "display_name": "AiBD",
   "language": "python",
   "name": "aibd"
  },
  "language_info": {
   "codemirror_mode": {
    "name": "ipython",
    "version": 3
   },
   "file_extension": ".py",
   "mimetype": "text/x-python",
   "name": "python",
   "nbconvert_exporter": "python",
   "pygments_lexer": "ipython3",
   "version": "3.8.6"
  }
 },
 "nbformat": 4,
 "nbformat_minor": 4
}
