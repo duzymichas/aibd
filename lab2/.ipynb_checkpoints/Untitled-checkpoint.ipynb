{
 "cells": [
  {
   "cell_type": "markdown",
   "id": "8bc8a79a",
   "metadata": {},
   "source": [
    "# Sprawozdanien z laboratorium 2\n",
    "Michał Białożyt 406347\n",
    "\n",
    "Zad 1)\n"
   ]
  },
  {
   "cell_type": "code",
   "execution_count": 86,
   "id": "d8ac6788",
   "metadata": {},
   "outputs": [
    {
     "name": "stdout",
     "output_type": "stream",
     "text": [
      "W bazie danych jest 16 kategorii.\n"
     ]
    },
    {
     "name": "stderr",
     "output_type": "stream",
     "text": [
      "C:\\Users\\User\\anaconda3\\lib\\site-packages\\pandas\\io\\sql.py:761: UserWarning: pandas only support SQLAlchemy connectable(engine/connection) ordatabase string URI or sqlite3 DBAPI2 connectionother DBAPI2 objects are not tested, please consider using SQLAlchemy\n",
      "  warnings.warn(\n"
     ]
    }
   ],
   "source": [
    "import psycopg2 as pg\n",
    "import pandas as pd\n",
    "import datetime\n",
    "import numpy as np\n",
    "\n",
    "# 1\n",
    "connection = pg.connect(host='pgsql-196447.vipserv.org', port=5432, dbname='wbauer_adb', user='wbauer_adb', password='adb2020')\n",
    "df = pd.read_sql('select * from category',con=connection)\n",
    "print(f\"W bazie danych jest {df.shape[0]} kategorii.\")"
   ]
  },
  {
   "cell_type": "code",
   "execution_count": 87,
   "id": "5bf0d8a1",
   "metadata": {},
   "outputs": [
    {
     "name": "stdout",
     "output_type": "stream",
     "text": [
      "Kategorie w kolejności alfabetycznej:\n",
      "            name\n",
      "0        Action\n",
      "1     Animation\n",
      "2      Children\n",
      "3      Classics\n",
      "4        Comedy\n",
      "5   Documentary\n",
      "6         Drama\n",
      "7        Family\n",
      "8       Foreign\n",
      "9         Games\n",
      "10       Horror\n",
      "11        Music\n",
      "12          New\n",
      "13       Sci-Fi\n",
      "14       Sports\n",
      "15       Travel\n"
     ]
    },
    {
     "name": "stderr",
     "output_type": "stream",
     "text": [
      "C:\\Users\\User\\anaconda3\\lib\\site-packages\\pandas\\io\\sql.py:761: UserWarning: pandas only support SQLAlchemy connectable(engine/connection) ordatabase string URI or sqlite3 DBAPI2 connectionother DBAPI2 objects are not tested, please consider using SQLAlchemy\n",
      "  warnings.warn(\n"
     ]
    }
   ],
   "source": [
    " #2\n",
    "df2 = pd.read_sql('select name from category ORDER BY name ASC',con=connection)\n",
    "print(f\"Kategorie w kolejności alfabetycznej:\\n\", df2)"
   ]
  },
  {
   "cell_type": "code",
   "execution_count": 88,
   "id": "a2a49d9f",
   "metadata": {},
   "outputs": [
    {
     "name": "stderr",
     "output_type": "stream",
     "text": [
      "C:\\Users\\User\\anaconda3\\lib\\site-packages\\pandas\\io\\sql.py:761: UserWarning: pandas only support SQLAlchemy connectable(engine/connection) ordatabase string URI or sqlite3 DBAPI2 connectionother DBAPI2 objects are not tested, please consider using SQLAlchemy\n",
      "  warnings.warn(\n"
     ]
    }
   ],
   "source": [
    " #3\n",
    "df3 = pd.read_sql('select title,release_year from film ORDER by release_year ASC',con=connection)\n",
    "\n",
    "def newest_and_oldest(df):\n",
    "    #znaleznienie najstarszego i najnowszego roku produkcji\n",
    "    last_year = df3['release_year'].iloc[0]\n",
    "    newest_year = df3['release_year'].iloc[df.shape[0]-1]\n",
    "\n",
    "    # znaleznienie wszystkich filmow z najstarszego roku\n",
    "    df31 = pd.read_sql('select title,release_year from film where release_year = last_year',con=connection)\n",
    "\n",
    "    # znaleznienie wszystkich filmow z najnowszego roku\n",
    "    df32 = pd.read_sql('select title,release_year from film where release_year = newest_year',con=connection)\n",
    "    return df31,df32\n",
    "\n",
    "#print(\"Najstarsze filmy\",newest_and_oldest(df3)[0])\n",
    "#print(\"Najnowsze filmy\",newest_and_oldest(df3)[1])"
   ]
  },
  {
   "cell_type": "code",
   "execution_count": 89,
   "id": "20aca9c2",
   "metadata": {},
   "outputs": [
    {
     "name": "stderr",
     "output_type": "stream",
     "text": [
      "C:\\Users\\User\\anaconda3\\lib\\site-packages\\pandas\\io\\sql.py:761: UserWarning: pandas only support SQLAlchemy connectable(engine/connection) ordatabase string URI or sqlite3 DBAPI2 connectionother DBAPI2 objects are not tested, please consider using SQLAlchemy\n",
      "  warnings.warn(\n"
     ]
    },
    {
     "name": "stdout",
     "output_type": "stream",
     "text": [
      "Rozwiązania:\n",
      "               rental_date\n",
      "3466  2005-07-05 22:49:24\n",
      "3467  2005-07-05 22:51:44\n",
      "3468  2005-07-05 22:56:33\n",
      "3469  2005-07-05 22:57:34\n",
      "3470  2005-07-05 22:59:53\n",
      "...                   ...\n",
      "10170 2005-07-31 23:40:35\n",
      "10171 2005-07-31 23:42:33\n",
      "10172 2005-07-31 23:43:04\n",
      "10173 2005-07-31 23:49:54\n",
      "10174 2005-07-31 23:57:43\n",
      "\n",
      "[6709 rows x 1 columns]\n"
     ]
    }
   ],
   "source": [
    "#4\n",
    "df4 = pd.read_sql('select rental_date from rental',con=connection)\n",
    "cond = (df4.rental_date < pd.Timestamp(2005,8,1)) & (df4.rental_date > pd.Timestamp(2005,7,1))\n",
    "print(\"Rozwiązania:\\n\",df4.loc[cond, ])"
   ]
  },
  {
   "cell_type": "code",
   "execution_count": 90,
   "id": "ba45bb34",
   "metadata": {},
   "outputs": [
    {
     "name": "stdout",
     "output_type": "stream",
     "text": [
      "Rozwiązania:\n",
      " Empty DataFrame\n",
      "Columns: [rental_date]\n",
      "Index: []\n"
     ]
    },
    {
     "name": "stderr",
     "output_type": "stream",
     "text": [
      "C:\\Users\\User\\anaconda3\\lib\\site-packages\\pandas\\io\\sql.py:761: UserWarning: pandas only support SQLAlchemy connectable(engine/connection) ordatabase string URI or sqlite3 DBAPI2 connectionother DBAPI2 objects are not tested, please consider using SQLAlchemy\n",
      "  warnings.warn(\n"
     ]
    }
   ],
   "source": [
    "#5\n",
    "df5 = pd.read_sql('select rental_date from rental',con=connection)\n",
    "cond5 = (df5.rental_date < pd.Timestamp(2011,2,1)) & (df5.rental_date > pd.Timestamp(2010,1,1))\n",
    "print(\"Rozwiązania:\\n\",df5.loc[cond5, ])"
   ]
  },
  {
   "cell_type": "code",
   "execution_count": 91,
   "id": "b2c544d5",
   "metadata": {},
   "outputs": [
    {
     "name": "stdout",
     "output_type": "stream",
     "text": [
      "Największa płatność wyniosła: 11.99\n"
     ]
    },
    {
     "name": "stderr",
     "output_type": "stream",
     "text": [
      "C:\\Users\\User\\anaconda3\\lib\\site-packages\\pandas\\io\\sql.py:761: UserWarning: pandas only support SQLAlchemy connectable(engine/connection) ordatabase string URI or sqlite3 DBAPI2 connectionother DBAPI2 objects are not tested, please consider using SQLAlchemy\n",
      "  warnings.warn(\n"
     ]
    }
   ],
   "source": [
    "#6\n",
    "df6 = pd.read_sql('select amount from payment ORDER BY amount DESC',con=connection)\n",
    "print(\"Największa płatność wyniosła:\",df6['amount'].iloc[0])"
   ]
  },
  {
   "cell_type": "code",
   "execution_count": 92,
   "id": "39f2965c",
   "metadata": {},
   "outputs": [
    {
     "name": "stdout",
     "output_type": "stream",
     "text": [
      "Z Polski, Nigerii i Bangladeszu są 24 osoby.\n",
      "\n",
      "    first_name  last_name     country\n",
      "97       Brian      Wyman      Poland\n",
      "133     Sidney   Burleson      Poland\n",
      "236   Marjorie     Tucker      Poland\n",
      "255       Leah     Curtis      Poland\n",
      "313      Ruben      Geary      Poland\n",
      "408    Johnnie   Chisholm      Poland\n",
      "548    Russell    Brinson      Poland\n",
      "575     Jimmie  Eggleston      Poland\n",
      "69       Sonia    Gregory     Nigeria\n",
      "141     Rodney    Moeller     Nigeria\n",
      "152      Velma      Lucas     Nigeria\n",
      "217    Marilyn       Ross     Nigeria\n",
      "218      Elsie     Kelley     Nigeria\n",
      "220     Gladys   Hamilton     Nigeria\n",
      "252      Carol     Garcia     Nigeria\n",
      "373       Olga    Jimenez     Nigeria\n",
      "380     Bertha   Ferguson     Nigeria\n",
      "388     Tracey    Barrett     Nigeria\n",
      "389         Jo     Fowler     Nigeria\n",
      "487    Wallace      Slone     Nigeria\n",
      "594  Constance       Reid     Nigeria\n",
      "143    Stephen     Qualls  Bangladesh\n",
      "234      Frank   Waggoner  Bangladesh\n",
      "524   Michelle      Clark  Bangladesh\n"
     ]
    },
    {
     "name": "stderr",
     "output_type": "stream",
     "text": [
      "C:\\Users\\User\\anaconda3\\lib\\site-packages\\pandas\\io\\sql.py:761: UserWarning: pandas only support SQLAlchemy connectable(engine/connection) ordatabase string URI or sqlite3 DBAPI2 connectionother DBAPI2 objects are not tested, please consider using SQLAlchemy\n",
      "  warnings.warn(\n"
     ]
    }
   ],
   "source": [
    "#7\n",
    "df7 = pd.read_sql('select customer.first_name, customer.last_name, country.country from customer INNER JOIN (address INNER JOIN(city INNER JOIN country on country.country_id = city.country_id) on address.city_id = city.city_id) on address.address_id =  customer.address_id',con=connection)\n",
    "df7p = df7[df7[\"country\"].str.contains('Poland')]\n",
    "df7b = df7[df7[\"country\"].str.contains('Niger')]\n",
    "df7n = df7[df7[\"country\"].str.contains('Bangladesh')]\n",
    "wyn = pd.concat([df7p,df7b,df7n])\n",
    "print(f\"Z Polski, Nigerii i Bangladeszu są {wyn.shape[0]} osoby.\\n\")\n",
    "print(wyn)"
   ]
  },
  {
   "cell_type": "code",
   "execution_count": 93,
   "id": "cd1263bf",
   "metadata": {},
   "outputs": [
    {
     "name": "stdout",
     "output_type": "stream",
     "text": [
      "  first_name last_name               address        city\n",
      "0       Mike   Hillyer     23 Workhaven Lane  Lethbridge\n",
      "1        Jon  Stephens  1411 Lillydale Drive   Woodridge\n"
     ]
    },
    {
     "name": "stderr",
     "output_type": "stream",
     "text": [
      "C:\\Users\\User\\anaconda3\\lib\\site-packages\\pandas\\io\\sql.py:761: UserWarning: pandas only support SQLAlchemy connectable(engine/connection) ordatabase string URI or sqlite3 DBAPI2 connectionother DBAPI2 objects are not tested, please consider using SQLAlchemy\n",
      "  warnings.warn(\n"
     ]
    }
   ],
   "source": [
    "#8\n",
    "df8 = pd.read_sql('select staff. first_name, staff.last_name, address.address, city.city from staff INNER JOIN (address INNER JOIN city on city.city_id = address.city_id) on staff.address_id = address.address_id',con=connection)\n",
    "print(df8)"
   ]
  },
  {
   "cell_type": "code",
   "execution_count": 99,
   "id": "cc93a592",
   "metadata": {},
   "outputs": [
    {
     "name": "stdout",
     "output_type": "stream",
     "text": [
      "Empty DataFrame\n",
      "Columns: [first_name, last_name, country]\n",
      "Index: []\n"
     ]
    }
   ],
   "source": [
    "#9\n",
    "df9 = pd.read_sql('select staff.first_name, staff.last_name, country.country from staff\\\n",
    "    INNER JOIN (address\\\n",
    "    INNER JOIN (city\\\n",
    "    INNER JOIN country\\\n",
    "    on country.country_id = city.country_id)\\\n",
    "    on city.city_id = address.city_id)\\\n",
    "    on staff.address_id = address.address_id',con=connection)\n",
    "df91 = df9[df9[\"country\"].str.contains(\"Spain\")]\n",
    "df92 = df9[df9[\"country\"].str.contains(\"Argentina\")]\n",
    "print(pd.concat([df91,df92]))\n",
    "#brak wyników lecz algorytm poprawny"
   ]
  },
  {
   "cell_type": "code",
   "execution_count": 95,
   "id": "11cfe783",
   "metadata": {},
   "outputs": [
    {
     "name": "stdout",
     "output_type": "stream",
     "text": [
      "      first_name    last_name      name\n",
      "0          Tommy      Collazo     Music\n",
      "1         Manuel      Murrell  Children\n",
      "2         Andrew        Purdy    Horror\n",
      "3        Delores       Hansen  Children\n",
      "4         Nelson  Christenson    Comedy\n",
      "...          ...          ...       ...\n",
      "16039     Denise        Kelly  Classics\n",
      "16040      Grace        Ellis   Foreign\n",
      "16041     Gladys     Hamilton     Drama\n",
      "16042     Philip       Causey     Drama\n",
      "16043  Charlotte       Hunter    Family\n",
      "\n",
      "[16044 rows x 3 columns]\n"
     ]
    }
   ],
   "source": [
    "#10\n",
    "df10 = pd.read_sql('select customer.first_name, customer.last_name, category.name from category\\\n",
    "    INNER JOIN (film_category\\\n",
    "    INNER JOIN (film\\\n",
    "    INNER JOIN (inventory\\\n",
    "    INNER JOIN (rental\\\n",
    "    INNER JOIN customer\\\n",
    "    on customer.customer_id = rental.customer_id)\\\n",
    "    on inventory.inventory_id = rental.inventory_id)\\\n",
    "    on film.film_id = inventory.film_id)\\\n",
    "    on film.film_id = film_category.film_id)\\\n",
    "    on film_category.category_id = category.category_id',con=connection)\n",
    "print(df10)\n",
    "#nie jestem pewien czy dobrze rozumiem polecenie, wypisałem wszystkich klientow i gatunki książek, które wypożyczyli\n",
    "#jeśli chodzi wymienienie samych kategorii to dodać trzeba instrukcję\n",
    "#df10 = df10.drop_duplicates(\"name\")\n",
    "#oraz ewentualnie\n",
    "#del df10[\"first_name\"]\n",
    "#del df10[\"last_name\"]\n",
    "#aby każda kategoria wypożyczona pojawiała się tylko raz oraz aby nie wyświetlać imion i nazwisk osób"
   ]
  },
  {
   "cell_type": "code",
   "execution_count": 96,
   "id": "8c6972e3",
   "metadata": {},
   "outputs": [
    {
     "name": "stdout",
     "output_type": "stream",
     "text": [
      "            name\n",
      "5         Horror\n",
      "52      Classics\n",
      "55        Comedy\n",
      "67       Foreign\n",
      "93        Sci-Fi\n",
      "96     Animation\n",
      "149        Games\n",
      "169        Drama\n",
      "240        Music\n",
      "243       Sports\n",
      "276  Documentary\n",
      "492          New\n",
      "522       Action\n",
      "574       Family\n",
      "744       Travel\n",
      "787     Children\n"
     ]
    },
    {
     "name": "stderr",
     "output_type": "stream",
     "text": [
      "C:\\Users\\User\\anaconda3\\lib\\site-packages\\pandas\\io\\sql.py:761: UserWarning: pandas only support SQLAlchemy connectable(engine/connection) ordatabase string URI or sqlite3 DBAPI2 connectionother DBAPI2 objects are not tested, please consider using SQLAlchemy\n",
      "  warnings.warn(\n"
     ]
    }
   ],
   "source": [
    "#11\n",
    "df11 = pd.read_sql('SELECT category.name, country.country\\\n",
    "    from category\\\n",
    "    INNER JOIN (film_category\\\n",
    "    INNER JOIN (film\\\n",
    "    INNER JOIN (inventory\\\n",
    "    INNER JOIN (rental\\\n",
    "    INNER JOIN (customer\\\n",
    "    INNER JOIN (address\\\n",
    "    INNER JOIN (city\\\n",
    "    INNER JOIN country\\\n",
    "    on country.country_id = city.country_id)\\\n",
    "    on city.city_id = address.city_id)\\\n",
    "    on address.address_id = customer.address_id)\\\n",
    "    on customer.customer_id = rental.customer_id)\\\n",
    "    on inventory.inventory_id = rental.inventory_id)\\\n",
    "    on film.film_id = inventory.film_id)\\\n",
    "    on film.film_id = film_category.film_id)\\\n",
    "    on film_category.category_id = category.category_id',con=connection)\n",
    "df11 = df11[df11[\"country\"].str.contains(\"United States\")]\n",
    "df11 = df11.drop_duplicates(\"name\")\n",
    "del df11[\"country\"]\n",
    "# warunek na same wypożycznia z USA oraz usunięcie powtarzanych kategorii musiałem zrobić poza read_sql(), inaczej nie chciało działać:(\n",
    "print(df11)"
   ]
  },
  {
   "cell_type": "code",
   "execution_count": 97,
   "id": "ceaa8783",
   "metadata": {},
   "outputs": [
    {
     "name": "stderr",
     "output_type": "stream",
     "text": [
      "C:\\Users\\User\\anaconda3\\lib\\site-packages\\pandas\\io\\sql.py:761: UserWarning: pandas only support SQLAlchemy connectable(engine/connection) ordatabase string URI or sqlite3 DBAPI2 connectionother DBAPI2 objects are not tested, please consider using SQLAlchemy\n",
      "  warnings.warn(\n"
     ]
    },
    {
     "name": "stdout",
     "output_type": "stream",
     "text": [
      "                     title first_name last_name\n",
      "4658           Badman Dawn    Olympia  Pfeiffer\n",
      "4659           Chitty Lock    Olympia  Pfeiffer\n",
      "4660    Color Philadelphia    Olympia  Pfeiffer\n",
      "4661     Contact Anonymous    Olympia  Pfeiffer\n",
      "4662          Deep Crusade    Olympia  Pfeiffer\n",
      "...                    ...        ...       ...\n",
      "2490  Streetcar Intentions      Ellen   Presley\n",
      "2491          Tadpole Park      Ellen   Presley\n",
      "2492      Treasure Command      Ellen   Presley\n",
      "2493             Turn Star      Ellen   Presley\n",
      "2494          Women Dorado      Ellen   Presley\n",
      "\n",
      "[69 rows x 3 columns]\n"
     ]
    }
   ],
   "source": [
    "df12 = pd.read_sql('SELECT film.title, actor.first_name, actor.last_name\\\n",
    "    from actor\\\n",
    "    INNER JOIN (film_actor\\\n",
    "    INNER JOIN film\\\n",
    "    on film_actor.film_id = film.film_id)\\\n",
    "    on film_actor.actor_id = actor.actor_id',con = connection) \n",
    "akt1 = df12[df12[\"first_name\"].str.contains('Olympia') & df12[\"last_name\"].str.contains('Pfeiffer')]\n",
    "akt2 = df12[df12[\"first_name\"].str.contains('Julia') & df12[\"last_name\"].str.contains('Zellweger')]\n",
    "akt3 = df12[df12[\"first_name\"].str.contains('Ellen') & df12[\"last_name\"].str.contains('Presley')]\n",
    "df12 = pd.concat([akt1,akt2,akt3])\n",
    "print(df12)"
   ]
  }
 ],
 "metadata": {
  "kernelspec": {
   "display_name": "Python 3 (ipykernel)",
   "language": "python",
   "name": "python3"
  },
  "language_info": {
   "codemirror_mode": {
    "name": "ipython",
    "version": 3
   },
   "file_extension": ".py",
   "mimetype": "text/x-python",
   "name": "python",
   "nbconvert_exporter": "python",
   "pygments_lexer": "ipython3",
   "version": "3.9.12"
  }
 },
 "nbformat": 4,
 "nbformat_minor": 5
}
