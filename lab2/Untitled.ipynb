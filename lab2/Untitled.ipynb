{
 "cells": [
  {
   "cell_type": "markdown",
   "id": "8bc8a79a",
   "metadata": {},
   "source": [
    "# Sprawozdanien z laboratorium 2\n",
    "Michał Białożyt 406347\n",
    "\n",
    "Zad 1)\n"
   ]
  },
  {
   "cell_type": "code",
   "execution_count": 2,
   "id": "d8ac6788",
   "metadata": {},
   "outputs": [
    {
     "name": "stdout",
     "output_type": "stream",
     "text": [
      "W bazie danych jest 16 kategorii.\n"
     ]
    },
    {
     "name": "stderr",
     "output_type": "stream",
     "text": [
      "C:\\Users\\User\\anaconda3\\lib\\site-packages\\pandas\\io\\sql.py:761: UserWarning: pandas only support SQLAlchemy connectable(engine/connection) ordatabase string URI or sqlite3 DBAPI2 connectionother DBAPI2 objects are not tested, please consider using SQLAlchemy\n",
      "  warnings.warn(\n"
     ]
    }
   ],
   "source": [
    "import psycopg2 as pg\n",
    "import pandas as pd\n",
    "import datetime\n",
    "import numpy as np\n",
    "\n",
    "# 1\n",
    "connection = pg.connect(host='pgsql-196447.vipserv.org', port=5432, dbname='wbauer_adb', user='wbauer_adb', password='adb2020')\n",
    "df = pd.read_sql('select * from category',con=connection)\n",
    "print(f\"W bazie danych jest {df.shape[0]} kategorii.\")"
   ]
  },
  {
   "cell_type": "code",
   "execution_count": 87,
   "id": "5bf0d8a1",
   "metadata": {},
   "outputs": [
    {
     "name": "stdout",
     "output_type": "stream",
     "text": [
      "Kategorie w kolejności alfabetycznej:\n",
      "            name\n",
      "0        Action\n",
      "1     Animation\n",
      "2      Children\n",
      "3      Classics\n",
      "4        Comedy\n",
      "5   Documentary\n",
      "6         Drama\n",
      "7        Family\n",
      "8       Foreign\n",
      "9         Games\n",
      "10       Horror\n",
      "11        Music\n",
      "12          New\n",
      "13       Sci-Fi\n",
      "14       Sports\n",
      "15       Travel\n"
     ]
    },
    {
     "name": "stderr",
     "output_type": "stream",
     "text": [
      "C:\\Users\\User\\anaconda3\\lib\\site-packages\\pandas\\io\\sql.py:761: UserWarning: pandas only support SQLAlchemy connectable(engine/connection) ordatabase string URI or sqlite3 DBAPI2 connectionother DBAPI2 objects are not tested, please consider using SQLAlchemy\n",
      "  warnings.warn(\n"
     ]
    }
   ],
   "source": [
    " #2\n",
    "df2 = pd.read_sql('select name from category ORDER BY name ASC',con=connection)\n",
    "print(f\"Kategorie w kolejności alfabetycznej:\\n\", df2)"
   ]
  },
  {
   "cell_type": "code",
   "execution_count": 3,
   "id": "a2a49d9f",
   "metadata": {},
   "outputs": [
    {
     "name": "stderr",
     "output_type": "stream",
     "text": [
      "C:\\Users\\User\\anaconda3\\lib\\site-packages\\pandas\\io\\sql.py:761: UserWarning: pandas only support SQLAlchemy connectable(engine/connection) ordatabase string URI or sqlite3 DBAPI2 connectionother DBAPI2 objects are not tested, please consider using SQLAlchemy\n",
      "  warnings.warn(\n"
     ]
    }
   ],
   "source": [
    " #3\n",
    "#first\n",
    "df31 = pd.read_sql('select title,release_year from film ORDER by release_year ASC LIMIT 1',con=connection)\n",
    "#last\n",
    "df32 = pd.read_sql('select title,release_year from film ORDER by release_year DESC LIMIT 1',con=connection)"
   ]
  },
  {
   "cell_type": "code",
   "execution_count": 5,
   "id": "20aca9c2",
   "metadata": {},
   "outputs": [
    {
     "name": "stdout",
     "output_type": "stream",
     "text": [
      "Rozwiązania:\n",
      "              rental_date\n",
      "0    2005-07-05 22:49:24\n",
      "1    2005-07-05 22:51:44\n",
      "2    2005-07-05 22:56:33\n",
      "3    2005-07-05 22:57:34\n",
      "4    2005-07-05 22:59:53\n",
      "...                  ...\n",
      "6704 2005-07-31 23:40:35\n",
      "6705 2005-07-31 23:42:33\n",
      "6706 2005-07-31 23:43:04\n",
      "6707 2005-07-31 23:49:54\n",
      "6708 2005-07-31 23:57:43\n",
      "\n",
      "[6709 rows x 1 columns]\n"
     ]
    }
   ],
   "source": [
    "#4\n",
    "df4 = pd.read_sql('''select rental_date from rental WHERE rental_date BETWEEN '2005-07-01' AND '2005-08-01' ''',con=connection)\n",
    "\n",
    "print(\"Rozwiązania:\\n\",df4)"
   ]
  },
  {
   "cell_type": "code",
   "execution_count": 6,
   "id": "ba45bb34",
   "metadata": {},
   "outputs": [
    {
     "name": "stdout",
     "output_type": "stream",
     "text": [
      "Rozwiązania:\n",
      " Empty DataFrame\n",
      "Columns: [rental_date]\n",
      "Index: []\n"
     ]
    },
    {
     "name": "stderr",
     "output_type": "stream",
     "text": [
      "C:\\Users\\User\\anaconda3\\lib\\site-packages\\pandas\\io\\sql.py:761: UserWarning: pandas only support SQLAlchemy connectable(engine/connection) ordatabase string URI or sqlite3 DBAPI2 connectionother DBAPI2 objects are not tested, please consider using SQLAlchemy\n",
      "  warnings.warn(\n"
     ]
    }
   ],
   "source": [
    "#5\n",
    "df5 = pd.read_sql('''select rental_date from rental WHERE rental_date BETWEEN '2010-01-01' AND '2011-02-01' ''',con=connection)\n",
    "\n",
    "print(\"Rozwiązania:\\n\",df5)"
   ]
  },
  {
   "cell_type": "code",
   "execution_count": 7,
   "id": "b2c544d5",
   "metadata": {},
   "outputs": [
    {
     "name": "stdout",
     "output_type": "stream",
     "text": [
      "Największa płatność wyniosła:    amount\n",
      "0   11.99\n"
     ]
    },
    {
     "name": "stderr",
     "output_type": "stream",
     "text": [
      "C:\\Users\\User\\anaconda3\\lib\\site-packages\\pandas\\io\\sql.py:761: UserWarning: pandas only support SQLAlchemy connectable(engine/connection) ordatabase string URI or sqlite3 DBAPI2 connectionother DBAPI2 objects are not tested, please consider using SQLAlchemy\n",
      "  warnings.warn(\n"
     ]
    }
   ],
   "source": [
    "#6\n",
    "df6 = pd.read_sql('select amount from payment ORDER BY amount DESC LIMIT 1',con=connection)\n",
    "print(\"Największa płatność wyniosła:\",df6)"
   ]
  },
  {
   "cell_type": "code",
   "execution_count": 9,
   "id": "39f2965c",
   "metadata": {},
   "outputs": [
    {
     "name": "stdout",
     "output_type": "stream",
     "text": [
      "   first_name  last_name     country\n",
      "0    Michelle      Clark  Bangladesh\n",
      "1     Stephen     Qualls  Bangladesh\n",
      "2       Frank   Waggoner  Bangladesh\n",
      "3     Marilyn       Ross     Nigeria\n",
      "4       Elsie     Kelley     Nigeria\n",
      "5      Gladys   Hamilton     Nigeria\n",
      "6       Sonia    Gregory     Nigeria\n",
      "7      Rodney    Moeller     Nigeria\n",
      "8       Velma      Lucas     Nigeria\n",
      "9       Carol     Garcia     Nigeria\n",
      "10       Olga    Jimenez     Nigeria\n",
      "11     Bertha   Ferguson     Nigeria\n",
      "12     Tracey    Barrett     Nigeria\n",
      "13         Jo     Fowler     Nigeria\n",
      "14    Wallace      Slone     Nigeria\n",
      "15  Constance       Reid     Nigeria\n",
      "16      Brian      Wyman      Poland\n",
      "17     Sidney   Burleson      Poland\n",
      "18   Marjorie     Tucker      Poland\n",
      "19    Russell    Brinson      Poland\n",
      "20       Leah     Curtis      Poland\n",
      "21      Ruben      Geary      Poland\n",
      "22    Johnnie   Chisholm      Poland\n",
      "23     Jimmie  Eggleston      Poland\n"
     ]
    },
    {
     "name": "stderr",
     "output_type": "stream",
     "text": [
      "C:\\Users\\User\\anaconda3\\lib\\site-packages\\pandas\\io\\sql.py:761: UserWarning: pandas only support SQLAlchemy connectable(engine/connection) ordatabase string URI or sqlite3 DBAPI2 connectionother DBAPI2 objects are not tested, please consider using SQLAlchemy\n",
      "  warnings.warn(\n"
     ]
    }
   ],
   "source": [
    "#7\n",
    "df7 = pd.read_sql('''select customer.first_name, customer.last_name, country.country from customer INNER JOIN (address INNER JOIN(city INNER JOIN country on country.country_id = city.country_id) on address.city_id = city.city_id) on address.address_id =  customer.address_id\n",
    "                    WHERE country.country = 'Poland' or country.country = 'Nigeria' or country.country = 'Bangladesh' ORDER BY country.country''',con=connection)\n",
    "\n",
    "print(df7)"
   ]
  },
  {
   "cell_type": "code",
   "execution_count": 93,
   "id": "cd1263bf",
   "metadata": {},
   "outputs": [
    {
     "name": "stdout",
     "output_type": "stream",
     "text": [
      "  first_name last_name               address        city\n",
      "0       Mike   Hillyer     23 Workhaven Lane  Lethbridge\n",
      "1        Jon  Stephens  1411 Lillydale Drive   Woodridge\n"
     ]
    },
    {
     "name": "stderr",
     "output_type": "stream",
     "text": [
      "C:\\Users\\User\\anaconda3\\lib\\site-packages\\pandas\\io\\sql.py:761: UserWarning: pandas only support SQLAlchemy connectable(engine/connection) ordatabase string URI or sqlite3 DBAPI2 connectionother DBAPI2 objects are not tested, please consider using SQLAlchemy\n",
      "  warnings.warn(\n"
     ]
    }
   ],
   "source": [
    "#8\n",
    "df8 = pd.read_sql('select staff. first_name, staff.last_name, address.address, city.city from staff INNER JOIN (address INNER JOIN city on city.city_id = address.city_id) on staff.address_id = address.address_id',con=connection)\n",
    "print(df8)"
   ]
  },
  {
   "cell_type": "code",
   "execution_count": 10,
   "id": "cc93a592",
   "metadata": {},
   "outputs": [
    {
     "name": "stdout",
     "output_type": "stream",
     "text": [
      "Empty DataFrame\n",
      "Columns: [first_name, last_name, country]\n",
      "Index: []\n"
     ]
    },
    {
     "name": "stderr",
     "output_type": "stream",
     "text": [
      "C:\\Users\\User\\anaconda3\\lib\\site-packages\\pandas\\io\\sql.py:761: UserWarning: pandas only support SQLAlchemy connectable(engine/connection) ordatabase string URI or sqlite3 DBAPI2 connectionother DBAPI2 objects are not tested, please consider using SQLAlchemy\n",
      "  warnings.warn(\n"
     ]
    }
   ],
   "source": [
    "#9\n",
    "df9 = pd.read_sql('''select staff.first_name, staff.last_name, country.country from staff\\\n",
    "    INNER JOIN (address\\\n",
    "    INNER JOIN (city\\\n",
    "    INNER JOIN country\\\n",
    "    on country.country_id = city.country_id)\\\n",
    "    on city.city_id = address.city_id)\\\n",
    "    on staff.address_id = address.address_id\n",
    "    WHERE country.country =  'Spain' or country.country =  'Argentina' ''',con=connection)\n",
    "print(df9)"
   ]
  },
  {
   "cell_type": "code",
   "execution_count": 26,
   "id": "11cfe783",
   "metadata": {},
   "outputs": [
    {
     "name": "stdout",
     "output_type": "stream",
     "text": [
      "           name\n",
      "0        Sports\n",
      "1      Classics\n",
      "2           New\n",
      "3        Family\n",
      "4        Comedy\n",
      "5     Animation\n",
      "6        Travel\n",
      "7         Music\n",
      "8         Drama\n",
      "9        Horror\n",
      "10       Sci-Fi\n",
      "11        Games\n",
      "12  Documentary\n",
      "13      Foreign\n",
      "14       Action\n",
      "15     Children\n"
     ]
    }
   ],
   "source": [
    "#10\n",
    "df10 = pd.read_sql('''select DISTINCT category.name from category\n",
    "    INNER JOIN (film_category\n",
    "    INNER JOIN (film\n",
    "    INNER JOIN (inventory\n",
    "    INNER JOIN rental\n",
    "    on inventory.inventory_id = rental.inventory_id)\n",
    "    on film.film_id = inventory.film_id)\n",
    "    on film.film_id = film_category.film_id)\n",
    "    on film_category.category_id = category.category_id\n",
    "    WHERE inventory.inventory_id = rental.inventory_id''',con=connection)\n",
    "print(df10)\n"
   ]
  },
  {
   "cell_type": "code",
   "execution_count": 19,
   "id": "8c6972e3",
   "metadata": {},
   "outputs": [
    {
     "name": "stdout",
     "output_type": "stream",
     "text": [
      "           name\n",
      "0        Sports\n",
      "1      Classics\n",
      "2           New\n",
      "3        Family\n",
      "4        Comedy\n",
      "5     Animation\n",
      "6        Travel\n",
      "7         Music\n",
      "8         Drama\n",
      "9        Horror\n",
      "10       Sci-Fi\n",
      "11        Games\n",
      "12  Documentary\n",
      "13      Foreign\n",
      "14       Action\n",
      "15     Children\n"
     ]
    },
    {
     "name": "stderr",
     "output_type": "stream",
     "text": [
      "C:\\Users\\User\\anaconda3\\lib\\site-packages\\pandas\\io\\sql.py:761: UserWarning: pandas only support SQLAlchemy connectable(engine/connection) ordatabase string URI or sqlite3 DBAPI2 connectionother DBAPI2 objects are not tested, please consider using SQLAlchemy\n",
      "  warnings.warn(\n"
     ]
    }
   ],
   "source": [
    "#11\n",
    "df11 = pd.read_sql('''SELECT DISTINCT category.name\\\n",
    "    from category\n",
    "    INNER JOIN (film_category\n",
    "    INNER JOIN (film\n",
    "    INNER JOIN (inventory\n",
    "    INNER JOIN (rental\n",
    "    INNER JOIN (customer\n",
    "    INNER JOIN (address\n",
    "    INNER JOIN (city\n",
    "    INNER JOIN country\n",
    "    on country.country_id = city.country_id)\n",
    "    on city.city_id = address.city_id)\n",
    "    on address.address_id = customer.address_id)\n",
    "    on customer.customer_id = rental.customer_id)\n",
    "    on inventory.inventory_id = rental.inventory_id)\n",
    "    on film.film_id = inventory.film_id)\n",
    "    on film.film_id = film_category.film_id)\n",
    "    on film_category.category_id = category.category_id\n",
    "    WHERE country.country = 'United States' ''',con=connection)\n",
    "print(df11)"
   ]
  },
  {
   "cell_type": "code",
   "execution_count": 21,
   "id": "ceaa8783",
   "metadata": {},
   "outputs": [
    {
     "name": "stdout",
     "output_type": "stream",
     "text": [
      "                title first_name  last_name\n",
      "0     Bilko Anonymous      Ellen    Presley\n",
      "1   Caribbean Liberty      Ellen    Presley\n",
      "2    Casper Dragonfly      Ellen    Presley\n",
      "3    Empire Malkovich      Ellen    Presley\n",
      "4       Floats Garden      Ellen    Presley\n",
      "..                ...        ...        ...\n",
      "64       Outlaw Hanky      Julia  Zellweger\n",
      "65    Panky Submarine      Julia  Zellweger\n",
      "66   Rider Caddyshack      Julia  Zellweger\n",
      "67          Won Dares      Julia  Zellweger\n",
      "68      Wyoming Storm      Julia  Zellweger\n",
      "\n",
      "[69 rows x 3 columns]\n"
     ]
    },
    {
     "name": "stderr",
     "output_type": "stream",
     "text": [
      "C:\\Users\\User\\anaconda3\\lib\\site-packages\\pandas\\io\\sql.py:761: UserWarning: pandas only support SQLAlchemy connectable(engine/connection) ordatabase string URI or sqlite3 DBAPI2 connectionother DBAPI2 objects are not tested, please consider using SQLAlchemy\n",
      "  warnings.warn(\n"
     ]
    }
   ],
   "source": [
    "df12 = pd.read_sql('''SELECT film.title, actor.first_name, actor.last_name\\\n",
    "    from actor\\\n",
    "    INNER JOIN (film_actor\\\n",
    "    INNER JOIN film\\\n",
    "    on film_actor.film_id = film.film_id)\\\n",
    "    on film_actor.actor_id = actor.actor_id\n",
    "    WHERE actor.first_name = 'Olympia' AND actor.last_name = 'Pfeiffer' OR \n",
    "    actor.first_name = 'Julia' AND actor.last_name = 'Zellweger' OR \n",
    "    actor.first_name = 'Ellen' AND actor.last_name = 'Presley' ''',con = connection) \n",
    "print(df12)"
   ]
  }
 ],
 "metadata": {
  "kernelspec": {
   "display_name": "Python 3 (ipykernel)",
   "language": "python",
   "name": "python3"
  },
  "language_info": {
   "codemirror_mode": {
    "name": "ipython",
    "version": 3
   },
   "file_extension": ".py",
   "mimetype": "text/x-python",
   "name": "python",
   "nbconvert_exporter": "python",
   "pygments_lexer": "ipython3",
   "version": "3.9.12"
  }
 },
 "nbformat": 4,
 "nbformat_minor": 5
}
